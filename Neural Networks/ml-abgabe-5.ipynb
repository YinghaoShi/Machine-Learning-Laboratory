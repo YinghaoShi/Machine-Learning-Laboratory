{
 "cells": [
  {
   "cell_type": "markdown",
   "metadata": {},
   "source": [
    "# HaMLeT\n",
    "\n",
    "## Session 5: Neural Networks\n",
    "by Raphael Kolk\n",
    "\n",
    "### Goal of this Session\n",
    "\n",
    "In this session you will, step by step, implement a neural network yourself without using any deep learning libraries. You should already be familiar with Python as well as NumPy (a package for scientific computing with Python)."
   ]
  },
  {
   "cell_type": "markdown",
   "metadata": {},
   "source": [
    "### Tasks\n",
    "\n",
    "**Task 0:** Please execute the following cell which is a workaround for data loading and ignore it until further notice."
   ]
  },
  {
   "cell_type": "code",
   "execution_count": 3,
   "metadata": {},
   "outputs": [],
   "source": [
    "from six.moves import urllib\n",
    "class MNIST:\n",
    "    def __init__(self):\n",
    "        # Alternative method to load MNIST, if mldata.org is down\n",
    "        from scipy.io import loadmat\n",
    "        import os\n",
    "        dset_path = os.path.join(os.path.abspath(os.environ[\"HOME\"]), 'datasets')\n",
    "        mnist_path = os.path.join(dset_path, \"mnist-original.mat\")\n",
    "        try:\n",
    "            mnist_raw = loadmat(mnist_path)\n",
    "        except FileNotFoundError:\n",
    "            if not os.path.isdir(dset_path):\n",
    "                os.makedirs(dset_path)\n",
    "            mnist_alternative_url = \"https://github.com/amplab/datascience-sp14/raw/master/lab7/mldata/mnist-original.mat\"\n",
    "            response = urllib.request.urlopen(mnist_alternative_url)\n",
    "            with open(mnist_path, \"wb\") as f:\n",
    "                content = response.read()\n",
    "                f.write(content)\n",
    "            mnist_raw = loadmat(mnist_path)\n",
    "        self.data = mnist_raw[\"data\"].T\n",
    "        self.target = mnist_raw[\"label\"][0]"
   ]
  },
  {
   "cell_type": "markdown",
   "metadata": {},
   "source": [
    "**Task 1a:** Implement the sigmoid function! Make sure it can handle a vector of values."
   ]
  },
  {
   "cell_type": "code",
   "execution_count": 4,
   "metadata": {},
   "outputs": [],
   "source": [
    "import numpy as np\n",
    "\n",
    "def sigmoid(z):\n",
    "    # ---------- Add code in between these comments ----------\n",
    "    return 1. / (1. + np.exp(-z))\n",
    "    # --------------------------------------------------------"
   ]
  },
  {
   "cell_type": "markdown",
   "metadata": {},
   "source": [
    "**Task 1b:** For later use in the backpropagation algorithm calculate the first derivative of the sigmoid function and implement it."
   ]
  },
  {
   "cell_type": "code",
   "execution_count": 5,
   "metadata": {},
   "outputs": [],
   "source": [
    "def sigmoid_derivative(z):\n",
    "    # ---------- Add code in between these comments ----------\n",
    "    return sigmoid(z) * (1 - sigmoid(z))\n",
    "    # --------------------------------------------------------"
   ]
  },
  {
   "cell_type": "markdown",
   "metadata": {},
   "source": [
    "**Task 1c:** Plot the implemented sigmoid function and its dericative by executing the next cell to ensure that it works properly!"
   ]
  },
  {
   "cell_type": "code",
   "execution_count": 6,
   "metadata": {},
   "outputs": [
    {
     "data": {
      "image/png": "[encoded data removed]",
      "text/plain": [
       "<Figure size 432x288 with 1 Axes>"
      ]
     },
     "metadata": {
      "needs_background": "light"
     },
     "output_type": "display_data"
    }
   ],
   "source": [
    "%matplotlib inline \n",
    "import matplotlib.pyplot as plt\n",
    "\n",
    "x = np.linspace(-4, 4, num=100)\n",
    "plt.plot(x, sigmoid(x))\n",
    "plt.plot(x, sigmoid_derivative(x))\n",
    "plt.legend((\"sigmoid\", \"derivative\"))\n",
    "plt.show()"
   ]
  },
  {
   "cell_type": "markdown",
   "metadata": {},
   "source": [
    "The centerpiece is the `Network` class which we use to represent a neural network. The following cell starts to implement the network object by defining the `__init__(self, ...)` method that is the constructor of the class and initializes the member variables. The biases and weights in the Network object are all initialized randomly using a Gaussian distribution with mean 0 and standard deviation 1. This random initialization gives our stochastic gradient descent algorithm a place to start from.\n",
    "\n",
    "The list `sizes`, which contains the number of neurons in the respective layers of the network, is given as a parameter.  For example, if the list was `[2, 3, 1]`, then it would be a three-layer network with the first layer containing 2 neurons, the second layer 3 neurons, and the third layer 1 neuron. \n",
    "\n",
    "After initialization the class instance should contain the following four member variables:\n",
    "\n",
    "- **`self.num_layers`** is the total number of layers in the network.\n",
    "\n",
    "- **`self.sizes`** is the same as the parameter `sizes`.\n",
    "\n",
    "- **`self.biases`** is a list of NumPy vectors. The biases for each hidden and output layer are stored in the respective vector of the list. The biases for the network are initialized randomly, using a Gaussian distribution with mean 0 and variance 1. Note that the first layer is assumed to be an input layer, and by convention we won't set any biases for those neurons, since biases are only ever used in computing the outputs from preceding layers.\n",
    "\n",
    "- **`self.weights`** is a list of NumPy matrices, each storing the weights of the connection between layers. So for example `self.weights[1]` is a NumPy matrix storing the weights connecting the second and third layers of neurons. (It's not the first and second layers, since Python's list indexing starts at 0.) Since `self.weights[1]` is rather verbose, let's just denote that matrix $w$. It's a matrix such that $w_{jk}$ is the weight for the connection between the $k$-th neuron in the second layer, and the $j$-th neuron in the third layer. \n",
    "\n",
    "To generate random values you are supposed to use the NumPy function `np.random.randn()`. Look up the NumPy documentation for further information on the usage.\n",
    "\n",
    "**Task 2a:** Implement the code initializing the four member variables of the network!\n"
   ]
  },
  {
   "cell_type": "code",
   "execution_count": 7,
   "metadata": {},
   "outputs": [],
   "source": [
    "import jdc # import for jupyter magic command \"%%add_to\".\n",
    "import random\n",
    "\n",
    "class Network(object):\n",
    "\n",
    "    def __init__(self, sizes):\n",
    "        \"\"\"Initialize network with random weights and biases.\"\"\"\n",
    "        # ---------- Add code in between these comments ----------\n",
    "        self.num_layers = len(sizes)\n",
    "        self.sizes = sizes\n",
    "        \n",
    "        # 1. *  + 0.\n",
    "        \n",
    "        self.biases = [np.random.randn(sizes[idx+1], 1) for idx in range(len(sizes)-1)]\n",
    "        self.weights = [np.random.randn(sizes[idx+1], sizes[idx]) for idx in range(len(sizes)-1)]\n",
    "        \n",
    "        # --------------------------------------------------------\n",
    "        \n",
    "    def __str__(self):\n",
    "        \"\"\"String representation of class\"\"\"\n",
    "        return \"Number of layers: \" + str(self.num_layers) + \"\\n\" + \\\n",
    "               \"Sizes of layers: \" + str(self.sizes) + \"\\n\" + \\\n",
    "               \"Biases:\" + \"\\n\" + \"\\n\".join([str(s) for s in self.biases]) + \"\\n\" + \\\n",
    "               \"Weights:\" + \"\\n\" + \"\\n\".join([str(s) for s in self.weights])"
   ]
  },
  {
   "cell_type": "markdown",
   "metadata": {},
   "source": [
    "**Task 2b:** In order to verify your implementation, initialize a new `Network` with an input layer of 3 neurons, two hidden layers with 4 neurons each and an output layer of 2 neurons."
   ]
  },
  {
   "cell_type": "code",
   "execution_count": 8,
   "metadata": {},
   "outputs": [
    {
     "name": "stdout",
     "output_type": "stream",
     "text": [
      "Number of layers: 4\n",
      "Sizes of layers: [3, 4, 4, 2]\n",
      "Biases:\n",
      "[[-0.14221402]\n",
      " [ 0.06402829]\n",
      " [ 0.76905293]\n",
      " [ 2.02641203]]\n",
      "[[-0.69791009]\n",
      " [ 0.49642115]\n",
      " [ 0.811495  ]\n",
      " [-0.3478253 ]]\n",
      "[[ 1.49645784]\n",
      " [-1.31324246]]\n",
      "Weights:\n",
      "[[-1.1370228  -1.1476307  -0.59244166]\n",
      " [ 1.06742245 -1.57878916 -0.09560987]\n",
      " [ 0.7121347  -0.1349356  -0.77183014]\n",
      " [ 0.48724382  1.03225383  0.66668661]]\n",
      "[[ 1.56409461  0.08558443  0.26543899  0.29987329]\n",
      " [ 0.31578478 -1.01407612 -0.54115202  1.18170701]\n",
      " [ 1.9733634   0.83637835 -0.81127294 -0.59062877]\n",
      " [ 0.34580198  0.36557761  1.16117302 -0.07299293]]\n",
      "[[ 0.26450352  0.02500921 -0.65392448  1.24880538]\n",
      " [ 0.49076178  0.86884845 -1.17796217  0.28641504]]\n"
     ]
    }
   ],
   "source": [
    "# ---------- Add code in between these comments ----------\n",
    "net = Network([3, 4, 4, 2])\n",
    "# --------------------------------------------------------\n",
    "print(net)"
   ]
  },
  {
   "cell_type": "markdown",
   "metadata": {},
   "source": [
    "As mentioned above the weight matrix `self.weights[1]` denoted as $w$ stores the weights such that $w_{jk}$ is the weight for the connection between the $k$-th neuron in the second layer and the $j$-th neuron in the third layer\n",
    "This ordering of the $j$ and $k$ indices may seem strange - surely it would make more sense to swap the j and k indices around? The big advantage of using this ordering is that it means the vector of activations of the third layer of neurons is:\n",
    "\n",
    "$$a'=\\sigma(wa+b)$$\n",
    "\n",
    "**Task 3a:** Using the earlier implemented `sigmoid()` function implement the `feed_forward()` method, which applies the equation stated above layer by layer to a given input vector `a`.\n",
    "\n",
    "Using the built-in `zip()` iterator helps you keep your code cleaner and thereby easier to understand."
   ]
  },
  {
   "cell_type": "code",
   "execution_count": 9,
   "metadata": {},
   "outputs": [],
   "source": [
    "%%add_to Network\n",
    "def feed_forward(self, a):\n",
    "    \"\"\"Return the output of the network if ``a`` is input.\"\"\"\n",
    "    # ---------- Add code in between these comments ----------\n",
    "    \n",
    "    for (weight, bias) in zip(self.weights, self.biases):\n",
    "        # print(weight.shape)\n",
    "        # print(bias.shape)\n",
    "        a = sigmoid(weight.dot(a) + bias).reshape(-1, 1)\n",
    "    \n",
    "    return a\n",
    "    \n",
    "    # --------------------------------------------------------"
   ]
  },
  {
   "cell_type": "markdown",
   "metadata": {},
   "source": [
    "**Task 3b:** In order to verify your implementation feed the randomly initialized network from task 2b the input vector `[1.2, 3.4, 5.6]`."
   ]
  },
  {
   "cell_type": "code",
   "execution_count": 10,
   "metadata": {},
   "outputs": [
    {
     "name": "stdout",
     "output_type": "stream",
     "text": [
      "[[0.85516981]\n",
      " [0.28577054]]\n"
     ]
    }
   ],
   "source": [
    "input = np.array([1.2, 3.4, 5.6]).reshape((-1, 1))\n",
    "print(net.feed_forward(input))"
   ]
  },
  {
   "cell_type": "markdown",
   "metadata": {},
   "source": [
    "Now we are having a look at the actual training and validation dataset, which was introduced in the preparation material. \n",
    "\n",
    "Using scikit-learn we can easily import the MNIST dataset. After loading, images and labels are accessible in two `numpy.ndarrays`.\n",
    "\n",
    "- Each of the 70000 rows in `mnist.data` stores one image (28 x 28 pixel) of a handwritten digit as a vector with a length of 784.\n",
    "\n",
    "- `mnist.target` stores the corresponding labels as an integer number.\n",
    "\n",
    "**Task 4a:** To familiarize yourself with the data, extract and plot ten different images of each digit (0 - 9)."
   ]
  },
  {
   "cell_type": "code",
   "execution_count": 11,
   "metadata": {},
   "outputs": [
    {
     "data": {
      "image/png": "[encoded data removed]",
      "text/plain": [
       "<Figure size 720x720 with 100 Axes>"
      ]
     },
     "metadata": {
      "needs_background": "light"
     },
     "output_type": "display_data"
    }
   ],
   "source": [
    "mnist = MNIST()\n",
    "\n",
    "%matplotlib inline \n",
    "import matplotlib as mpl\n",
    "import matplotlib.pyplot as plt\n",
    "fig = plt.figure(figsize=(10, 10))\n",
    "\n",
    "for i in range(0, 10):\n",
    "    for j in range (0, 10):\n",
    "        # ---------- Add code in between these comments ----------\n",
    "        \n",
    "        image = mnist.data[mnist.target == i][j].reshape((28, 28))\n",
    "        # print(image.shape)\n",
    "        \n",
    "        # --------------------------------------------------------\n",
    "        plt.subplot(10, 10, 10*i+j+1)\n",
    "        plt.imshow(image, cmap='gist_yarg')\n",
    "        fig.axes[10*i+j].set_axis_off()\n",
    "        \n",
    "plt.show()"
   ]
  },
  {
   "cell_type": "markdown",
   "metadata": {},
   "source": [
    "Since we want to design our network with 10 output neurons and train it in a way that the output activation for the digit j becomes 1.0 at the j-th neuron, we need to vectorize our label.\n",
    "\n",
    "**Task 4b:** Implement the function `vectorize()` which accepts an integer $j$ between 0 and 9 and returns a 10-dimensional unit vector with a 1.0 in the $j$-th position and zeroes elsewhere.  This is used to convert a digit (0...9) into a corresponding desired output from the neural network."
   ]
  },
  {
   "cell_type": "code",
   "execution_count": 30,
   "metadata": {},
   "outputs": [
    {
     "name": "stdout",
     "output_type": "stream",
     "text": [
      "[[0.]\n",
      " [0.]\n",
      " [0.]\n",
      " [1.]\n",
      " [0.]\n",
      " [0.]\n",
      " [0.]\n",
      " [0.]\n",
      " [0.]\n",
      " [0.]]\n"
     ]
    }
   ],
   "source": [
    "def vectorize(j):\n",
    "    # ---------- Add code in between these comments ----------\n",
    "    \n",
    "    out = np.zeros((10, 1))\n",
    "    out[j] = 1.\n",
    "    \n",
    "    return out\n",
    "    # --------------------------------------------------------\n",
    "    \n",
    "print(vectorize(3))"
   ]
  },
  {
   "cell_type": "markdown",
   "metadata": {},
   "source": [
    "We need to load and prepare the MNIST dataset to be used in the training of our network. Therefore the following steps need to be taken:\n",
    "\n",
    "1. Load the data as we did in task 4a and convert images and labels into lists of samples. This is already implemented in the function below.\n",
    "\n",
    "2. The images in the dataset are integer-valued with a maximum intensity of 255. Before feeding them to the input neuron we have to ensure that their pixel values are between 0.0 and 1.0.\n",
    "\n",
    "3. The labels in the dataset are integers, so we need to vectorize them using the function implemented above.\n",
    "\n",
    "4. We have to merge the list of images and the list of labels so that we end up with one list of tuples. Each tuple contains one image and one label.\n",
    "\n",
    "5. The list of tuples needs to be split into `training_data` (60000 samples) and `validation_data` (10000 samples).\n",
    "\n",
    "**Task 4c:** Implement steps 2 to 5 in the function below."
   ]
  },
  {
   "cell_type": "code",
   "execution_count": 37,
   "metadata": {},
   "outputs": [],
   "source": [
    "from tqdm import tqdm\n",
    "\n",
    "def load_data():\n",
    "    mnist = MNIST()\n",
    "    images = [i.reshape((784,1)) for i in mnist.data]\n",
    "    labels = [int(l) for l in mnist.target]\n",
    "    \n",
    "    # ---------- Add code in between these comments ----------\n",
    "    \n",
    "    images = [image / 255. for image in images] # 2.\n",
    "    labels = [vectorize(label) for label in labels] # 3.\n",
    "    \n",
    "    data = list(zip(images, labels)) # 4.\n",
    "    \n",
    "    training_data, validation_data = data[:60000], data[60000:]\n",
    "    \n",
    "    # --------------------------------------------------------\n",
    "    \n",
    "    return training_data, validation_data\n",
    "\n",
    "training_data, validation_data = load_data()"
   ]
  },
  {
   "cell_type": "markdown",
   "metadata": {},
   "source": [
    "After each training epoch the performance of the network is evaluated by feeding the validation data into the network and comparing the output to the ground truth label. The neural network's output is assumed to be the index of the neuron with the highest activation in the output layer.\n",
    "\n",
    "**Task 5a:** Implement the class method `evaluate()`, which feeds the network the validation data sample by sample using the `feed_forward()` method and return the number of correct classifications."
   ]
  },
  {
   "cell_type": "code",
   "execution_count": 38,
   "metadata": {},
   "outputs": [],
   "source": [
    "%%add_to Network\n",
    "def evaluate(self, validation_data):\n",
    "    # ---------- Add code in between these comments ----------\n",
    "    \n",
    "    count = 0\n",
    "    \n",
    "    for (image, label) in validation_data:\n",
    "        out = self.feed_forward(image)\n",
    "        out = np.argmax(out)\n",
    "        tgt = np.argmax(label)\n",
    "        \n",
    "        if out == tgt:\n",
    "            count += 1\n",
    "\n",
    "    return count\n",
    "    \n",
    "    # --------------------------------------------------------"
   ]
  },
  {
   "cell_type": "markdown",
   "metadata": {},
   "source": [
    "**Task 5b:** Test your implemented code by applying the method to a randomly initialized and untrained network. Since the odds for guessing correctly are 1 to 10 the evaluation output should be roughly 10%. You can execute the code several times to test the assumption."
   ]
  },
  {
   "cell_type": "code",
   "execution_count": 39,
   "metadata": {},
   "outputs": [
    {
     "name": "stdout",
     "output_type": "stream",
     "text": [
      "Correct classifications of randomly initialized network: 695 of 10000\n"
     ]
    }
   ],
   "source": [
    "training_data, validation_data = load_data()\n",
    "net = Network([784, 30, 10])\n",
    "print(\"Correct classifications of randomly initialized network: {0} of {1}\".format(net.evaluate(validation_data), len(validation_data)))"
   ]
  },
  {
   "cell_type": "markdown",
   "metadata": {},
   "source": [
    "The `train()` method, as its name implies, trains our network. The modification of the the `weights` and `biases` itself is done by the already implemented function `update_mini_batch()`, which again uses the backpropagation algorithm to calculate the gradient.\n",
    "\n",
    "However, the `train()` method implements the stochastic gradient descent, which means that the gradient is calculated for a subset of training samples, a so called mini batch, rather than for the whole training set. Besides having other advantages this is a lot faster and shortens the time needed for training. After the network has been fed the training set, split into mini batches, and the parameters have been updated accordingly, the process is repeated in the next epoch, thereby iteratively tuning the network parameters to a near-optimal state.\n",
    "\n",
    "In our implementation of the `train()` method the following steps need to be taken:\n",
    "- The training and validation data is given formatted as described and impemented in task 4c.\n",
    "- For every epoch (the number of epochs is given by `num_epochs`):\n",
    "    - The order of the training data is randomly shuffled.\n",
    "    - The training dataset is split into mini batches of the size `mini_batch_size`.\n",
    "    - The `update_mini_batch()` method is applied to each mini batch.\n",
    "    - The network's perfomance is evaluated and displayed.\n",
    "    \n",
    "**Task 6a:** Implement the missing code in the `train()` method as described above."
   ]
  },
  {
   "cell_type": "code",
   "execution_count": 40,
   "metadata": {},
   "outputs": [],
   "source": [
    "%%add_to Network\n",
    "def train(self, training_data, validation_data, num_epochs, mini_batch_size, learning_rate):\n",
    "    for j in range(num_epochs):\n",
    "        # ---------- Add code in between these comments ----------\n",
    "        \n",
    "        print(f\"Epoch: {j + 1}\")\n",
    "        \n",
    "        random.shuffle(training_data) # no return value\n",
    "        \n",
    "        for batch_idx in tqdm(range(0, len(training_data), mini_batch_size)):\n",
    "            data = training_data[batch_idx:batch_idx+mini_batch_size]\n",
    "            self.update_mini_batch(data, learning_rate)\n",
    "        \n",
    "        # print(self.evaluate(validation_data))\n",
    "        \n",
    "        # --------------------------------------------------------\n",
    "\n",
    "def update_mini_batch(self, mini_batch, learning_rate):\n",
    "    nabla_b = [np.zeros(b.shape) for b in self.biases]\n",
    "    nabla_w = [np.zeros(w.shape) for w in self.weights]\n",
    "    for x, y in mini_batch:\n",
    "        delta_nabla_b, delta_nabla_w = self.backpropagation(x, y)\n",
    "        nabla_b = [nb+dnb for nb, dnb in zip(nabla_b, delta_nabla_b)]\n",
    "        nabla_w = [nw+dnw for nw, dnw in zip(nabla_w, delta_nabla_w)]\n",
    "    self.weights = [w-(learning_rate/len(mini_batch))*nw for w, nw in zip(self.weights, nabla_w)]\n",
    "    self.biases = [b-(learning_rate/len(mini_batch))*nb for b, nb in zip(self.biases, nabla_b)]\n",
    "\n",
    "def backpropagation(self, x, y):\n",
    "    nabla_b = [np.zeros(b.shape) for b in self.biases]\n",
    "    nabla_w = [np.zeros(w.shape) for w in self.weights]\n",
    "    # feedforward\n",
    "    activation = x\n",
    "    activations = [x] # list to store all the activations, layer by layer\n",
    "    zs = [] # list to store all the z vectors, layer by layer\n",
    "    for b, w in zip(self.biases, self.weights):\n",
    "        z = np.dot(w, activation)+b\n",
    "        zs.append(z)\n",
    "        activation = sigmoid(z)\n",
    "        activations.append(activation)\n",
    "    # backward pass\n",
    "    delta = (activations[-1] - y) * sigmoid_derivative(zs[-1])\n",
    "    nabla_b[-1] = delta\n",
    "    nabla_w[-1] = np.dot(delta, activations[-2].transpose())\n",
    "    for l in range(2, self.num_layers):\n",
    "        z = zs[-l]\n",
    "        sp = sigmoid_derivative(z)\n",
    "        delta = np.dot(self.weights[-l+1].transpose(), delta) * sp\n",
    "        nabla_b[-l] = delta\n",
    "        nabla_w[-l] = np.dot(delta, activations[-l-1].transpose())\n",
    "    return (nabla_b, nabla_w)"
   ]
  },
  {
   "cell_type": "markdown",
   "metadata": {},
   "source": [
    "Using all the implemented functionality above you can finally train a network on the MNIST dataset. Therefore:\n",
    "- Load the training and validation data.\n",
    "- Instantiate a new network with\n",
    "    - 784 neurons in the input layer,\n",
    "    - 30 neurons in the first and only hidden layer and\n",
    "    - 10 neurons in the output layer.\n",
    "- Train the network using the training and validation data\n",
    "    - for 30 epochs,\n",
    "    - with a mini batch size of 10 and\n",
    "    - a learning rate of 3.0.\n",
    "    \n",
    "**Task 6b:** Implement the training process as stated above."
   ]
  },
  {
   "cell_type": "code",
   "execution_count": 41,
   "metadata": {},
   "outputs": [
    {
     "name": "stderr",
     "output_type": "stream",
     "text": [
      "  1%|          | 67/6000 [00:00<00:08, 669.28it/s]"
     ]
    },
    {
     "name": "stdout",
     "output_type": "stream",
     "text": [
      "60000\n",
      "Epoch: 1\n"
     ]
    },
    {
     "name": "stderr",
     "output_type": "stream",
     "text": [
      "100%|██████████| 6000/6000 [00:07<00:00, 841.81it/s]\n",
      "  1%|          | 74/6000 [00:00<00:08, 732.53it/s]"
     ]
    },
    {
     "name": "stdout",
     "output_type": "stream",
     "text": [
      "9161\n",
      "Epoch: 2\n"
     ]
    },
    {
     "name": "stderr",
     "output_type": "stream",
     "text": [
      "100%|██████████| 6000/6000 [00:08<00:00, 715.15it/s]\n",
      "  1%|          | 68/6000 [00:00<00:08, 677.77it/s]"
     ]
    },
    {
     "name": "stdout",
     "output_type": "stream",
     "text": [
      "9306\n",
      "Epoch: 3\n"
     ]
    },
    {
     "name": "stderr",
     "output_type": "stream",
     "text": [
      "100%|██████████| 6000/6000 [00:09<00:00, 666.13it/s]\n",
      "  1%|▏         | 84/6000 [00:00<00:07, 833.35it/s]"
     ]
    },
    {
     "name": "stdout",
     "output_type": "stream",
     "text": [
      "9346\n",
      "Epoch: 4\n"
     ]
    },
    {
     "name": "stderr",
     "output_type": "stream",
     "text": [
      "100%|██████████| 6000/6000 [00:10<00:00, 580.04it/s]\n",
      "  1%|▏         | 75/6000 [00:00<00:07, 745.19it/s]"
     ]
    },
    {
     "name": "stdout",
     "output_type": "stream",
     "text": [
      "9389\n",
      "Epoch: 5\n"
     ]
    },
    {
     "name": "stderr",
     "output_type": "stream",
     "text": [
      "100%|██████████| 6000/6000 [00:07<00:00, 818.67it/s]\n",
      "  1%|▏         | 84/6000 [00:00<00:07, 831.96it/s]"
     ]
    },
    {
     "name": "stdout",
     "output_type": "stream",
     "text": [
      "9369\n",
      "Epoch: 6\n"
     ]
    },
    {
     "name": "stderr",
     "output_type": "stream",
     "text": [
      "100%|██████████| 6000/6000 [00:08<00:00, 748.73it/s]\n",
      "  2%|▏         | 90/6000 [00:00<00:06, 897.35it/s]"
     ]
    },
    {
     "name": "stdout",
     "output_type": "stream",
     "text": [
      "9438\n",
      "Epoch: 7\n"
     ]
    },
    {
     "name": "stderr",
     "output_type": "stream",
     "text": [
      "100%|██████████| 6000/6000 [00:10<00:00, 583.29it/s]\n",
      "  1%|          | 72/6000 [00:00<00:08, 715.10it/s]"
     ]
    },
    {
     "name": "stdout",
     "output_type": "stream",
     "text": [
      "9456\n",
      "Epoch: 8\n"
     ]
    },
    {
     "name": "stderr",
     "output_type": "stream",
     "text": [
      "100%|██████████| 6000/6000 [00:08<00:00, 717.37it/s]\n",
      "  1%|          | 62/6000 [00:00<00:09, 617.82it/s]"
     ]
    },
    {
     "name": "stdout",
     "output_type": "stream",
     "text": [
      "9473\n",
      "Epoch: 9\n"
     ]
    },
    {
     "name": "stderr",
     "output_type": "stream",
     "text": [
      "100%|██████████| 6000/6000 [00:09<00:00, 666.57it/s]\n",
      "  1%|          | 68/6000 [00:00<00:08, 676.20it/s]"
     ]
    },
    {
     "name": "stdout",
     "output_type": "stream",
     "text": [
      "9469\n",
      "Epoch: 10\n"
     ]
    },
    {
     "name": "stderr",
     "output_type": "stream",
     "text": [
      "100%|██████████| 6000/6000 [00:07<00:00, 843.84it/s]\n",
      "  1%|▏         | 87/6000 [00:00<00:06, 862.79it/s]"
     ]
    },
    {
     "name": "stdout",
     "output_type": "stream",
     "text": [
      "9471\n",
      "Epoch: 11\n"
     ]
    },
    {
     "name": "stderr",
     "output_type": "stream",
     "text": [
      "100%|██████████| 6000/6000 [00:06<00:00, 866.26it/s]\n",
      "  1%|          | 73/6000 [00:00<00:08, 726.36it/s]"
     ]
    },
    {
     "name": "stdout",
     "output_type": "stream",
     "text": [
      "9508\n",
      "Epoch: 12\n"
     ]
    },
    {
     "name": "stderr",
     "output_type": "stream",
     "text": [
      "100%|██████████| 6000/6000 [00:08<00:00, 719.40it/s]\n",
      "  1%|          | 68/6000 [00:00<00:08, 675.25it/s]"
     ]
    },
    {
     "name": "stdout",
     "output_type": "stream",
     "text": [
      "9458\n",
      "Epoch: 13\n"
     ]
    },
    {
     "name": "stderr",
     "output_type": "stream",
     "text": [
      "100%|██████████| 6000/6000 [00:07<00:00, 848.95it/s]\n",
      "  1%|▏         | 82/6000 [00:00<00:07, 819.42it/s]"
     ]
    },
    {
     "name": "stdout",
     "output_type": "stream",
     "text": [
      "9481\n",
      "Epoch: 14\n"
     ]
    },
    {
     "name": "stderr",
     "output_type": "stream",
     "text": [
      "100%|██████████| 6000/6000 [00:07<00:00, 825.64it/s]\n",
      "  1%|▏         | 79/6000 [00:00<00:07, 787.23it/s]"
     ]
    },
    {
     "name": "stdout",
     "output_type": "stream",
     "text": [
      "9480\n",
      "Epoch: 15\n"
     ]
    },
    {
     "name": "stderr",
     "output_type": "stream",
     "text": [
      "100%|██████████| 6000/6000 [00:07<00:00, 758.29it/s]\n",
      "  1%|▏         | 81/6000 [00:00<00:07, 809.18it/s]"
     ]
    },
    {
     "name": "stdout",
     "output_type": "stream",
     "text": [
      "9500\n",
      "Epoch: 16\n"
     ]
    },
    {
     "name": "stderr",
     "output_type": "stream",
     "text": [
      "100%|██████████| 6000/6000 [00:08<00:00, 678.94it/s]\n",
      "  1%|▏         | 81/6000 [00:00<00:07, 805.37it/s]"
     ]
    },
    {
     "name": "stdout",
     "output_type": "stream",
     "text": [
      "9506\n",
      "Epoch: 17\n"
     ]
    },
    {
     "name": "stderr",
     "output_type": "stream",
     "text": [
      "100%|██████████| 6000/6000 [00:07<00:00, 763.85it/s]\n",
      "  1%|▏         | 82/6000 [00:00<00:07, 817.15it/s]"
     ]
    },
    {
     "name": "stdout",
     "output_type": "stream",
     "text": [
      "9524\n",
      "Epoch: 18\n"
     ]
    },
    {
     "name": "stderr",
     "output_type": "stream",
     "text": [
      "100%|██████████| 6000/6000 [00:07<00:00, 754.31it/s]\n",
      "  1%|▏         | 83/6000 [00:00<00:07, 823.37it/s]"
     ]
    },
    {
     "name": "stdout",
     "output_type": "stream",
     "text": [
      "9516\n",
      "Epoch: 19\n"
     ]
    },
    {
     "name": "stderr",
     "output_type": "stream",
     "text": [
      "100%|██████████| 6000/6000 [00:08<00:00, 673.16it/s]\n",
      "  1%|▏         | 76/6000 [00:00<00:07, 749.66it/s]"
     ]
    },
    {
     "name": "stdout",
     "output_type": "stream",
     "text": [
      "9483\n",
      "Epoch: 20\n"
     ]
    },
    {
     "name": "stderr",
     "output_type": "stream",
     "text": [
      "100%|██████████| 6000/6000 [00:08<00:00, 743.61it/s]\n",
      "  1%|▏         | 82/6000 [00:00<00:07, 819.65it/s]"
     ]
    },
    {
     "name": "stdout",
     "output_type": "stream",
     "text": [
      "9528\n",
      "Epoch: 21\n"
     ]
    },
    {
     "name": "stderr",
     "output_type": "stream",
     "text": [
      "100%|██████████| 6000/6000 [00:08<00:00, 720.74it/s]\n",
      "  1%|▏         | 85/6000 [00:00<00:06, 845.06it/s]"
     ]
    },
    {
     "name": "stdout",
     "output_type": "stream",
     "text": [
      "9551\n",
      "Epoch: 22\n"
     ]
    },
    {
     "name": "stderr",
     "output_type": "stream",
     "text": [
      "100%|██████████| 6000/6000 [00:07<00:00, 813.20it/s]\n",
      "  1%|▏         | 81/6000 [00:00<00:07, 797.40it/s]"
     ]
    },
    {
     "name": "stdout",
     "output_type": "stream",
     "text": [
      "9556\n",
      "Epoch: 23\n"
     ]
    },
    {
     "name": "stderr",
     "output_type": "stream",
     "text": [
      "100%|██████████| 6000/6000 [00:08<00:00, 697.29it/s]\n",
      "  1%|▏         | 86/6000 [00:00<00:06, 859.36it/s]"
     ]
    },
    {
     "name": "stdout",
     "output_type": "stream",
     "text": [
      "9552\n",
      "Epoch: 24\n"
     ]
    },
    {
     "name": "stderr",
     "output_type": "stream",
     "text": [
      "100%|██████████| 6000/6000 [00:07<00:00, 842.10it/s]\n",
      "  1%|▏         | 75/6000 [00:00<00:08, 739.00it/s]"
     ]
    },
    {
     "name": "stdout",
     "output_type": "stream",
     "text": [
      "9530\n",
      "Epoch: 25\n"
     ]
    },
    {
     "name": "stderr",
     "output_type": "stream",
     "text": [
      "100%|██████████| 6000/6000 [00:07<00:00, 832.61it/s]\n",
      "  1%|          | 68/6000 [00:00<00:08, 675.59it/s]"
     ]
    },
    {
     "name": "stdout",
     "output_type": "stream",
     "text": [
      "9519\n",
      "Epoch: 26\n"
     ]
    },
    {
     "name": "stderr",
     "output_type": "stream",
     "text": [
      "100%|██████████| 6000/6000 [00:07<00:00, 802.34it/s]\n",
      "  1%|▏         | 87/6000 [00:00<00:06, 867.76it/s]"
     ]
    },
    {
     "name": "stdout",
     "output_type": "stream",
     "text": [
      "9510\n",
      "Epoch: 27\n"
     ]
    },
    {
     "name": "stderr",
     "output_type": "stream",
     "text": [
      "100%|██████████| 6000/6000 [00:07<00:00, 820.96it/s]\n",
      "  1%|▏         | 86/6000 [00:00<00:06, 852.48it/s]"
     ]
    },
    {
     "name": "stdout",
     "output_type": "stream",
     "text": [
      "9533\n",
      "Epoch: 28\n"
     ]
    },
    {
     "name": "stderr",
     "output_type": "stream",
     "text": [
      "100%|██████████| 6000/6000 [00:06<00:00, 873.50it/s]\n",
      "  1%|▏         | 81/6000 [00:00<00:07, 802.70it/s]"
     ]
    },
    {
     "name": "stdout",
     "output_type": "stream",
     "text": [
      "9519\n",
      "Epoch: 29\n"
     ]
    },
    {
     "name": "stderr",
     "output_type": "stream",
     "text": [
      "100%|██████████| 6000/6000 [00:08<00:00, 718.24it/s]\n",
      "  2%|▏         | 92/6000 [00:00<00:06, 908.97it/s]"
     ]
    },
    {
     "name": "stdout",
     "output_type": "stream",
     "text": [
      "9539\n",
      "Epoch: 30\n"
     ]
    },
    {
     "name": "stderr",
     "output_type": "stream",
     "text": [
      "100%|██████████| 6000/6000 [00:07<00:00, 817.09it/s]\n"
     ]
    },
    {
     "name": "stdout",
     "output_type": "stream",
     "text": [
      "9518\n"
     ]
    }
   ],
   "source": [
    "# ---------- Add code in between these comments ----------\n",
    "\n",
    "num_epochs = 30\n",
    "mini_batch_size = 10\n",
    "learning_rate = 3.\n",
    "\n",
    "print(len(training_data))\n",
    "\n",
    "net.train(training_data, validation_data, num_epochs, mini_batch_size, learning_rate)\n",
    "\n",
    "# --------------------------------------------------------"
   ]
  },
  {
   "cell_type": "markdown",
   "metadata": {},
   "source": [
    "**Task 7:** Have fun changing the training parameters or the design of the network and observing the resulting classification rate."
   ]
  },
  {
   "cell_type": "code",
   "execution_count": 44,
   "metadata": {},
   "outputs": [
    {
     "name": "stderr",
     "output_type": "stream",
     "text": [
      "  1%|          | 33/6000 [00:00<00:18, 329.40it/s]"
     ]
    },
    {
     "name": "stdout",
     "output_type": "stream",
     "text": [
      "0.9518\n",
      "Epoch: 1\n"
     ]
    },
    {
     "name": "stderr",
     "output_type": "stream",
     "text": [
      "100%|██████████| 6000/6000 [00:10<00:00, 562.84it/s]\n",
      "  1%|          | 38/6000 [00:00<00:15, 379.35it/s]"
     ]
    },
    {
     "name": "stdout",
     "output_type": "stream",
     "text": [
      "8337\n",
      "Epoch: 2\n"
     ]
    },
    {
     "name": "stderr",
     "output_type": "stream",
     "text": [
      "100%|██████████| 6000/6000 [00:11<00:00, 520.71it/s]\n",
      "  1%|          | 55/6000 [00:00<00:11, 540.23it/s]"
     ]
    },
    {
     "name": "stdout",
     "output_type": "stream",
     "text": [
      "8423\n",
      "Epoch: 3\n"
     ]
    },
    {
     "name": "stderr",
     "output_type": "stream",
     "text": [
      "100%|██████████| 6000/6000 [00:09<00:00, 659.28it/s]\n",
      "  1%|          | 53/6000 [00:00<00:11, 524.31it/s]"
     ]
    },
    {
     "name": "stdout",
     "output_type": "stream",
     "text": [
      "8523\n",
      "Epoch: 4\n"
     ]
    },
    {
     "name": "stderr",
     "output_type": "stream",
     "text": [
      "100%|██████████| 6000/6000 [00:09<00:00, 623.33it/s]\n",
      "  1%|          | 48/6000 [00:00<00:12, 474.82it/s]"
     ]
    },
    {
     "name": "stdout",
     "output_type": "stream",
     "text": [
      "8555\n",
      "Epoch: 5\n"
     ]
    },
    {
     "name": "stderr",
     "output_type": "stream",
     "text": [
      "100%|██████████| 6000/6000 [00:09<00:00, 619.49it/s]\n",
      "  1%|          | 58/6000 [00:00<00:10, 575.36it/s]"
     ]
    },
    {
     "name": "stdout",
     "output_type": "stream",
     "text": [
      "8601\n",
      "Epoch: 6\n"
     ]
    },
    {
     "name": "stderr",
     "output_type": "stream",
     "text": [
      "100%|██████████| 6000/6000 [00:09<00:00, 650.75it/s]\n",
      "  1%|          | 64/6000 [00:00<00:09, 623.96it/s]"
     ]
    },
    {
     "name": "stdout",
     "output_type": "stream",
     "text": [
      "8619\n",
      "Epoch: 7\n"
     ]
    },
    {
     "name": "stderr",
     "output_type": "stream",
     "text": [
      "100%|██████████| 6000/6000 [00:10<00:00, 551.62it/s]\n",
      "  1%|          | 53/6000 [00:00<00:11, 528.75it/s]"
     ]
    },
    {
     "name": "stdout",
     "output_type": "stream",
     "text": [
      "8623\n",
      "Epoch: 8\n"
     ]
    },
    {
     "name": "stderr",
     "output_type": "stream",
     "text": [
      "100%|██████████| 6000/6000 [00:08<00:00, 671.52it/s]\n",
      "  1%|          | 57/6000 [00:00<00:10, 556.79it/s]"
     ]
    },
    {
     "name": "stdout",
     "output_type": "stream",
     "text": [
      "8616\n",
      "Epoch: 9\n"
     ]
    },
    {
     "name": "stderr",
     "output_type": "stream",
     "text": [
      "100%|██████████| 6000/6000 [00:09<00:00, 616.70it/s]\n",
      "  1%|          | 63/6000 [00:00<00:09, 618.64it/s]"
     ]
    },
    {
     "name": "stdout",
     "output_type": "stream",
     "text": [
      "8641\n",
      "Epoch: 10\n"
     ]
    },
    {
     "name": "stderr",
     "output_type": "stream",
     "text": [
      "100%|██████████| 6000/6000 [00:09<00:00, 636.64it/s]\n",
      "  1%|          | 41/6000 [00:00<00:15, 395.65it/s]"
     ]
    },
    {
     "name": "stdout",
     "output_type": "stream",
     "text": [
      "8644\n",
      "Epoch: 11\n"
     ]
    },
    {
     "name": "stderr",
     "output_type": "stream",
     "text": [
      "100%|██████████| 6000/6000 [00:09<00:00, 610.44it/s]\n",
      "  1%|          | 47/6000 [00:00<00:12, 465.51it/s]"
     ]
    },
    {
     "name": "stdout",
     "output_type": "stream",
     "text": [
      "8639\n",
      "Epoch: 12\n"
     ]
    },
    {
     "name": "stderr",
     "output_type": "stream",
     "text": [
      "100%|██████████| 6000/6000 [00:11<00:00, 519.40it/s]\n",
      "  1%|          | 55/6000 [00:00<00:10, 545.63it/s]"
     ]
    },
    {
     "name": "stdout",
     "output_type": "stream",
     "text": [
      "8663\n",
      "Epoch: 13\n"
     ]
    },
    {
     "name": "stderr",
     "output_type": "stream",
     "text": [
      "100%|██████████| 6000/6000 [00:10<00:00, 591.76it/s]\n",
      "  1%|          | 66/6000 [00:00<00:09, 644.89it/s]"
     ]
    },
    {
     "name": "stdout",
     "output_type": "stream",
     "text": [
      "8669\n",
      "Epoch: 14\n"
     ]
    },
    {
     "name": "stderr",
     "output_type": "stream",
     "text": [
      "100%|██████████| 6000/6000 [00:10<00:00, 597.68it/s]\n",
      "  1%|          | 58/6000 [00:00<00:10, 577.81it/s]"
     ]
    },
    {
     "name": "stdout",
     "output_type": "stream",
     "text": [
      "8684\n",
      "Epoch: 15\n"
     ]
    },
    {
     "name": "stderr",
     "output_type": "stream",
     "text": [
      "100%|██████████| 6000/6000 [00:11<00:00, 501.90it/s]\n",
      "  1%|          | 37/6000 [00:00<00:16, 368.67it/s]"
     ]
    },
    {
     "name": "stdout",
     "output_type": "stream",
     "text": [
      "8676\n",
      "Epoch: 16\n"
     ]
    },
    {
     "name": "stderr",
     "output_type": "stream",
     "text": [
      "100%|██████████| 6000/6000 [00:13<00:00, 440.83it/s]\n",
      "  1%|          | 60/6000 [00:00<00:10, 593.60it/s]"
     ]
    },
    {
     "name": "stdout",
     "output_type": "stream",
     "text": [
      "9494\n",
      "Epoch: 17\n"
     ]
    },
    {
     "name": "stderr",
     "output_type": "stream",
     "text": [
      "100%|██████████| 6000/6000 [00:11<00:00, 533.14it/s]\n",
      "  1%|          | 52/6000 [00:00<00:11, 510.77it/s]"
     ]
    },
    {
     "name": "stdout",
     "output_type": "stream",
     "text": [
      "9504\n",
      "Epoch: 18\n"
     ]
    },
    {
     "name": "stderr",
     "output_type": "stream",
     "text": [
      "100%|██████████| 6000/6000 [00:10<00:00, 588.54it/s]\n",
      "  1%|          | 60/6000 [00:00<00:10, 588.40it/s]"
     ]
    },
    {
     "name": "stdout",
     "output_type": "stream",
     "text": [
      "9553\n",
      "Epoch: 19\n"
     ]
    },
    {
     "name": "stderr",
     "output_type": "stream",
     "text": [
      "100%|██████████| 6000/6000 [00:09<00:00, 638.52it/s]\n",
      "  1%|          | 69/6000 [00:00<00:08, 682.88it/s]"
     ]
    },
    {
     "name": "stdout",
     "output_type": "stream",
     "text": [
      "9522\n",
      "Epoch: 20\n"
     ]
    },
    {
     "name": "stderr",
     "output_type": "stream",
     "text": [
      "100%|██████████| 6000/6000 [00:09<00:00, 629.00it/s]\n",
      "  1%|          | 62/6000 [00:00<00:09, 606.64it/s]"
     ]
    },
    {
     "name": "stdout",
     "output_type": "stream",
     "text": [
      "9564\n",
      "Epoch: 21\n"
     ]
    },
    {
     "name": "stderr",
     "output_type": "stream",
     "text": [
      "100%|██████████| 6000/6000 [00:09<00:00, 605.82it/s]\n",
      "  0%|          | 29/6000 [00:00<00:21, 281.47it/s]"
     ]
    },
    {
     "name": "stdout",
     "output_type": "stream",
     "text": [
      "9532\n",
      "Epoch: 22\n"
     ]
    },
    {
     "name": "stderr",
     "output_type": "stream",
     "text": [
      "100%|██████████| 6000/6000 [00:09<00:00, 622.52it/s]\n",
      "  1%|          | 68/6000 [00:00<00:08, 678.59it/s]"
     ]
    },
    {
     "name": "stdout",
     "output_type": "stream",
     "text": [
      "9566\n",
      "Epoch: 23\n"
     ]
    },
    {
     "name": "stderr",
     "output_type": "stream",
     "text": [
      "100%|██████████| 6000/6000 [00:10<00:00, 598.13it/s]\n",
      "  1%|          | 71/6000 [00:00<00:08, 708.85it/s]"
     ]
    },
    {
     "name": "stdout",
     "output_type": "stream",
     "text": [
      "9560\n",
      "Epoch: 24\n"
     ]
    },
    {
     "name": "stderr",
     "output_type": "stream",
     "text": [
      "100%|██████████| 6000/6000 [00:09<00:00, 638.13it/s]\n",
      "  1%|          | 68/6000 [00:00<00:08, 677.09it/s]"
     ]
    },
    {
     "name": "stdout",
     "output_type": "stream",
     "text": [
      "9561\n",
      "Epoch: 25\n"
     ]
    },
    {
     "name": "stderr",
     "output_type": "stream",
     "text": [
      "100%|██████████| 6000/6000 [00:09<00:00, 623.68it/s]\n",
      "  1%|          | 59/6000 [00:00<00:10, 584.26it/s]"
     ]
    },
    {
     "name": "stdout",
     "output_type": "stream",
     "text": [
      "9571\n",
      "Epoch: 26\n"
     ]
    },
    {
     "name": "stderr",
     "output_type": "stream",
     "text": [
      "100%|██████████| 6000/6000 [00:09<00:00, 635.84it/s]\n",
      "  1%|          | 74/6000 [00:00<00:08, 734.56it/s]"
     ]
    },
    {
     "name": "stdout",
     "output_type": "stream",
     "text": [
      "9574\n",
      "Epoch: 27\n"
     ]
    },
    {
     "name": "stderr",
     "output_type": "stream",
     "text": [
      "100%|██████████| 6000/6000 [00:09<00:00, 664.98it/s]\n",
      "  1%|          | 60/6000 [00:00<00:09, 598.08it/s]"
     ]
    },
    {
     "name": "stdout",
     "output_type": "stream",
     "text": [
      "9589\n",
      "Epoch: 28\n"
     ]
    },
    {
     "name": "stderr",
     "output_type": "stream",
     "text": [
      "100%|██████████| 6000/6000 [00:09<00:00, 631.72it/s]\n",
      "  1%|          | 48/6000 [00:00<00:12, 469.71it/s]"
     ]
    },
    {
     "name": "stdout",
     "output_type": "stream",
     "text": [
      "9584\n",
      "Epoch: 29\n"
     ]
    },
    {
     "name": "stderr",
     "output_type": "stream",
     "text": [
      "100%|██████████| 6000/6000 [00:09<00:00, 666.28it/s]\n",
      "  1%|          | 60/6000 [00:00<00:09, 599.55it/s]"
     ]
    },
    {
     "name": "stdout",
     "output_type": "stream",
     "text": [
      "9595\n",
      "Epoch: 30\n"
     ]
    },
    {
     "name": "stderr",
     "output_type": "stream",
     "text": [
      "100%|██████████| 6000/6000 [00:09<00:00, 625.30it/s]\n",
      "  1%|          | 72/6000 [00:00<00:08, 686.73it/s]"
     ]
    },
    {
     "name": "stdout",
     "output_type": "stream",
     "text": [
      "9592\n",
      "Epoch: 31\n"
     ]
    },
    {
     "name": "stderr",
     "output_type": "stream",
     "text": [
      "100%|██████████| 6000/6000 [00:09<00:00, 607.82it/s]\n",
      "  1%|          | 62/6000 [00:00<00:09, 610.10it/s]"
     ]
    },
    {
     "name": "stdout",
     "output_type": "stream",
     "text": [
      "9587\n",
      "Epoch: 32\n"
     ]
    },
    {
     "name": "stderr",
     "output_type": "stream",
     "text": [
      "100%|██████████| 6000/6000 [00:09<00:00, 617.70it/s]\n",
      "  1%|          | 61/6000 [00:00<00:09, 609.22it/s]"
     ]
    },
    {
     "name": "stdout",
     "output_type": "stream",
     "text": [
      "9587\n",
      "Epoch: 33\n"
     ]
    },
    {
     "name": "stderr",
     "output_type": "stream",
     "text": [
      "100%|██████████| 6000/6000 [00:09<00:00, 661.47it/s]\n",
      "  1%|          | 65/6000 [00:00<00:09, 646.78it/s]"
     ]
    },
    {
     "name": "stdout",
     "output_type": "stream",
     "text": [
      "9596\n",
      "Epoch: 34\n"
     ]
    },
    {
     "name": "stderr",
     "output_type": "stream",
     "text": [
      "100%|██████████| 6000/6000 [00:09<00:00, 625.63it/s]\n",
      "  1%|          | 68/6000 [00:00<00:08, 670.14it/s]"
     ]
    },
    {
     "name": "stdout",
     "output_type": "stream",
     "text": [
      "9599\n",
      "Epoch: 35\n"
     ]
    },
    {
     "name": "stderr",
     "output_type": "stream",
     "text": [
      "100%|██████████| 6000/6000 [00:09<00:00, 620.76it/s]\n",
      "  1%|          | 59/6000 [00:00<00:10, 589.62it/s]"
     ]
    },
    {
     "name": "stdout",
     "output_type": "stream",
     "text": [
      "9593\n",
      "Epoch: 36\n"
     ]
    },
    {
     "name": "stderr",
     "output_type": "stream",
     "text": [
      "100%|██████████| 6000/6000 [00:09<00:00, 635.35it/s]\n",
      "  1%|          | 61/6000 [00:00<00:09, 603.21it/s]"
     ]
    },
    {
     "name": "stdout",
     "output_type": "stream",
     "text": [
      "9596\n",
      "Epoch: 37\n"
     ]
    },
    {
     "name": "stderr",
     "output_type": "stream",
     "text": [
      "100%|██████████| 6000/6000 [00:09<00:00, 617.74it/s]\n",
      "  1%|          | 68/6000 [00:00<00:08, 668.46it/s]"
     ]
    },
    {
     "name": "stdout",
     "output_type": "stream",
     "text": [
      "9601\n",
      "Epoch: 38\n"
     ]
    },
    {
     "name": "stderr",
     "output_type": "stream",
     "text": [
      "100%|██████████| 6000/6000 [00:09<00:00, 627.55it/s]\n",
      "  1%|          | 59/6000 [00:00<00:10, 585.39it/s]"
     ]
    },
    {
     "name": "stdout",
     "output_type": "stream",
     "text": [
      "9596\n",
      "Epoch: 39\n"
     ]
    },
    {
     "name": "stderr",
     "output_type": "stream",
     "text": [
      "100%|██████████| 6000/6000 [00:09<00:00, 607.04it/s]\n",
      "  1%|          | 65/6000 [00:00<00:09, 647.23it/s]"
     ]
    },
    {
     "name": "stdout",
     "output_type": "stream",
     "text": [
      "9602\n",
      "Epoch: 40\n"
     ]
    },
    {
     "name": "stderr",
     "output_type": "stream",
     "text": [
      "100%|██████████| 6000/6000 [00:09<00:00, 622.06it/s]\n",
      "  1%|          | 53/6000 [00:00<00:11, 527.21it/s]"
     ]
    },
    {
     "name": "stdout",
     "output_type": "stream",
     "text": [
      "9605\n",
      "Epoch: 41\n"
     ]
    },
    {
     "name": "stderr",
     "output_type": "stream",
     "text": [
      "100%|██████████| 6000/6000 [00:09<00:00, 654.14it/s]\n",
      "  1%|▏         | 76/6000 [00:00<00:07, 748.84it/s]"
     ]
    },
    {
     "name": "stdout",
     "output_type": "stream",
     "text": [
      "9593\n",
      "Epoch: 42\n"
     ]
    },
    {
     "name": "stderr",
     "output_type": "stream",
     "text": [
      "100%|██████████| 6000/6000 [00:09<00:00, 648.50it/s]\n",
      "  1%|          | 67/6000 [00:00<00:08, 661.02it/s]"
     ]
    },
    {
     "name": "stdout",
     "output_type": "stream",
     "text": [
      "9594\n",
      "Epoch: 43\n"
     ]
    },
    {
     "name": "stderr",
     "output_type": "stream",
     "text": [
      "100%|██████████| 6000/6000 [00:09<00:00, 621.08it/s]\n",
      "  1%|          | 69/6000 [00:00<00:08, 685.78it/s]"
     ]
    },
    {
     "name": "stdout",
     "output_type": "stream",
     "text": [
      "9608\n",
      "Epoch: 44\n"
     ]
    },
    {
     "name": "stderr",
     "output_type": "stream",
     "text": [
      "100%|██████████| 6000/6000 [00:09<00:00, 613.83it/s]\n",
      "  1%|          | 56/6000 [00:00<00:10, 555.97it/s]"
     ]
    },
    {
     "name": "stdout",
     "output_type": "stream",
     "text": [
      "9600\n",
      "Epoch: 45\n"
     ]
    },
    {
     "name": "stderr",
     "output_type": "stream",
     "text": [
      "100%|██████████| 6000/6000 [00:09<00:00, 600.05it/s]\n",
      "  1%|          | 65/6000 [00:00<00:09, 644.45it/s]"
     ]
    },
    {
     "name": "stdout",
     "output_type": "stream",
     "text": [
      "9603\n",
      "Epoch: 46\n"
     ]
    },
    {
     "name": "stderr",
     "output_type": "stream",
     "text": [
      "100%|██████████| 6000/6000 [00:09<00:00, 628.21it/s]\n",
      "  1%|          | 66/6000 [00:00<00:09, 652.87it/s]"
     ]
    },
    {
     "name": "stdout",
     "output_type": "stream",
     "text": [
      "9612\n",
      "Epoch: 47\n"
     ]
    },
    {
     "name": "stderr",
     "output_type": "stream",
     "text": [
      "100%|██████████| 6000/6000 [00:09<00:00, 629.32it/s]\n",
      "  1%|          | 66/6000 [00:00<00:09, 654.37it/s]"
     ]
    },
    {
     "name": "stdout",
     "output_type": "stream",
     "text": [
      "9615\n",
      "Epoch: 48\n"
     ]
    },
    {
     "name": "stderr",
     "output_type": "stream",
     "text": [
      "100%|██████████| 6000/6000 [00:09<00:00, 644.08it/s]\n",
      "  1%|          | 58/6000 [00:00<00:10, 575.54it/s]"
     ]
    },
    {
     "name": "stdout",
     "output_type": "stream",
     "text": [
      "9600\n",
      "Epoch: 49\n"
     ]
    },
    {
     "name": "stderr",
     "output_type": "stream",
     "text": [
      "100%|██████████| 6000/6000 [00:09<00:00, 627.92it/s]\n",
      "  1%|          | 55/6000 [00:00<00:10, 548.83it/s]"
     ]
    },
    {
     "name": "stdout",
     "output_type": "stream",
     "text": [
      "9600\n",
      "Epoch: 50\n"
     ]
    },
    {
     "name": "stderr",
     "output_type": "stream",
     "text": [
      "100%|██████████| 6000/6000 [00:09<00:00, 645.21it/s]\n"
     ]
    },
    {
     "name": "stdout",
     "output_type": "stream",
     "text": [
      "9606\n",
      "0.9606\n"
     ]
    }
   ],
   "source": [
    "# ---------- Add code in between these comments ----------\n",
    "\n",
    "print(net.evaluate(validation_data) / len(validation_data))\n",
    "\n",
    "num_epochs = 50\n",
    "mini_batch_size = 10\n",
    "learning_rate = 2.\n",
    "\n",
    "net = Network([784, 50, 10])\n",
    "\n",
    "net.train(training_data, validation_data, num_epochs, mini_batch_size, learning_rate)\n",
    "\n",
    "print(net.evaluate(validation_data) / len(validation_data))\n",
    "\n",
    "# --------------------------------------------------------"
   ]
  },
  {
   "cell_type": "markdown",
   "metadata": {},
   "source": [
    "### Feedback\n",
    "\n",
    "Aaaaaand we're done 👏🏼🍻\n",
    "\n",
    "If you have any suggestions on how we could improve this session, please let us know in the following cell. What did you particularly like or dislike? Did you miss any contents?"
   ]
  },
  {
   "cell_type": "markdown",
   "metadata": {},
   "source": []
  },
  {
   "cell_type": "markdown",
   "metadata": {},
   "source": [
    "### Additional Tasks"
   ]
  },
  {
   "cell_type": "markdown",
   "metadata": {},
   "source": [
    "**Task 8:** Expand your `train` function by a learning rate decay / scheduler."
   ]
  },
  {
   "cell_type": "code",
   "execution_count": 46,
   "metadata": {},
   "outputs": [
    {
     "name": "stderr",
     "output_type": "stream",
     "text": [
      "  2%|▏         | 122/6000 [00:00<00:10, 564.92it/s]"
     ]
    },
    {
     "name": "stdout",
     "output_type": "stream",
     "text": [
      "Epoch: 1\n"
     ]
    },
    {
     "name": "stderr",
     "output_type": "stream",
     "text": [
      "100%|██████████| 6000/6000 [00:08<00:00, 744.57it/s]\n",
      "  1%|          | 70/6000 [00:00<00:08, 697.34it/s]"
     ]
    },
    {
     "name": "stdout",
     "output_type": "stream",
     "text": [
      "Epoch: 2\n"
     ]
    },
    {
     "name": "stderr",
     "output_type": "stream",
     "text": [
      "100%|██████████| 6000/6000 [00:09<00:00, 658.13it/s]\n",
      "  1%|          | 47/6000 [00:00<00:12, 458.36it/s]"
     ]
    },
    {
     "name": "stdout",
     "output_type": "stream",
     "text": [
      "Epoch: 3\n"
     ]
    },
    {
     "name": "stderr",
     "output_type": "stream",
     "text": [
      "100%|██████████| 6000/6000 [00:08<00:00, 721.47it/s]\n",
      "  1%|          | 58/6000 [00:00<00:10, 578.57it/s]"
     ]
    },
    {
     "name": "stdout",
     "output_type": "stream",
     "text": [
      "Epoch: 4\n"
     ]
    },
    {
     "name": "stderr",
     "output_type": "stream",
     "text": [
      "100%|██████████| 6000/6000 [00:09<00:00, 612.03it/s]\n",
      "  1%|          | 44/6000 [00:00<00:13, 435.62it/s]"
     ]
    },
    {
     "name": "stdout",
     "output_type": "stream",
     "text": [
      "Epoch: 5\n"
     ]
    },
    {
     "name": "stderr",
     "output_type": "stream",
     "text": [
      "100%|██████████| 6000/6000 [00:10<00:00, 549.54it/s]\n",
      "  1%|          | 56/6000 [00:00<00:10, 549.94it/s]"
     ]
    },
    {
     "name": "stdout",
     "output_type": "stream",
     "text": [
      "Epoch: 6\n"
     ]
    },
    {
     "name": "stderr",
     "output_type": "stream",
     "text": [
      "100%|██████████| 6000/6000 [00:10<00:00, 555.17it/s]\n",
      "  1%|          | 61/6000 [00:00<00:09, 607.58it/s]"
     ]
    },
    {
     "name": "stdout",
     "output_type": "stream",
     "text": [
      "Epoch: 7\n"
     ]
    },
    {
     "name": "stderr",
     "output_type": "stream",
     "text": [
      "100%|██████████| 6000/6000 [00:10<00:00, 568.37it/s]\n",
      "  1%|          | 73/6000 [00:00<00:08, 720.65it/s]"
     ]
    },
    {
     "name": "stdout",
     "output_type": "stream",
     "text": [
      "Epoch: 8\n"
     ]
    },
    {
     "name": "stderr",
     "output_type": "stream",
     "text": [
      "100%|██████████| 6000/6000 [00:10<00:00, 558.93it/s]\n",
      "  1%|▏         | 77/6000 [00:00<00:07, 764.62it/s]"
     ]
    },
    {
     "name": "stdout",
     "output_type": "stream",
     "text": [
      "Epoch: 9\n"
     ]
    },
    {
     "name": "stderr",
     "output_type": "stream",
     "text": [
      "100%|██████████| 6000/6000 [00:08<00:00, 745.27it/s]\n",
      "  1%|          | 73/6000 [00:00<00:08, 723.81it/s]"
     ]
    },
    {
     "name": "stdout",
     "output_type": "stream",
     "text": [
      "Epoch: 10\n"
     ]
    },
    {
     "name": "stderr",
     "output_type": "stream",
     "text": [
      "100%|██████████| 6000/6000 [00:08<00:00, 721.99it/s]\n",
      "  1%|▏         | 78/6000 [00:00<00:07, 774.59it/s]"
     ]
    },
    {
     "name": "stdout",
     "output_type": "stream",
     "text": [
      "Epoch: 11\n"
     ]
    },
    {
     "name": "stderr",
     "output_type": "stream",
     "text": [
      "100%|██████████| 6000/6000 [00:08<00:00, 724.66it/s]\n",
      "  1%|          | 67/6000 [00:00<00:08, 665.63it/s]"
     ]
    },
    {
     "name": "stdout",
     "output_type": "stream",
     "text": [
      "Epoch: 12\n"
     ]
    },
    {
     "name": "stderr",
     "output_type": "stream",
     "text": [
      "100%|██████████| 6000/6000 [00:08<00:00, 718.44it/s]\n",
      "  1%|▏         | 78/6000 [00:00<00:07, 774.80it/s]"
     ]
    },
    {
     "name": "stdout",
     "output_type": "stream",
     "text": [
      "Epoch: 13\n"
     ]
    },
    {
     "name": "stderr",
     "output_type": "stream",
     "text": [
      "100%|██████████| 6000/6000 [00:08<00:00, 731.17it/s]\n",
      "  1%|          | 72/6000 [00:00<00:08, 717.97it/s]"
     ]
    },
    {
     "name": "stdout",
     "output_type": "stream",
     "text": [
      "Epoch: 14\n"
     ]
    },
    {
     "name": "stderr",
     "output_type": "stream",
     "text": [
      "100%|██████████| 6000/6000 [00:08<00:00, 731.00it/s]\n",
      "  1%|          | 72/6000 [00:00<00:08, 716.68it/s]"
     ]
    },
    {
     "name": "stdout",
     "output_type": "stream",
     "text": [
      "Epoch: 15\n"
     ]
    },
    {
     "name": "stderr",
     "output_type": "stream",
     "text": [
      "100%|██████████| 6000/6000 [00:08<00:00, 711.06it/s]\n",
      "  1%|          | 72/6000 [00:00<00:08, 713.65it/s]"
     ]
    },
    {
     "name": "stdout",
     "output_type": "stream",
     "text": [
      "Epoch: 16\n"
     ]
    },
    {
     "name": "stderr",
     "output_type": "stream",
     "text": [
      "100%|██████████| 6000/6000 [00:08<00:00, 693.96it/s]\n",
      "  1%|          | 67/6000 [00:00<00:08, 667.14it/s]"
     ]
    },
    {
     "name": "stdout",
     "output_type": "stream",
     "text": [
      "Epoch: 17\n"
     ]
    },
    {
     "name": "stderr",
     "output_type": "stream",
     "text": [
      "100%|██████████| 6000/6000 [00:08<00:00, 710.80it/s]\n",
      "  1%|          | 74/6000 [00:00<00:08, 731.20it/s]"
     ]
    },
    {
     "name": "stdout",
     "output_type": "stream",
     "text": [
      "Epoch: 18\n"
     ]
    },
    {
     "name": "stderr",
     "output_type": "stream",
     "text": [
      "100%|██████████| 6000/6000 [00:08<00:00, 716.45it/s]\n",
      "  1%|          | 73/6000 [00:00<00:08, 722.21it/s]"
     ]
    },
    {
     "name": "stdout",
     "output_type": "stream",
     "text": [
      "Epoch: 19\n"
     ]
    },
    {
     "name": "stderr",
     "output_type": "stream",
     "text": [
      "100%|██████████| 6000/6000 [00:08<00:00, 700.65it/s]\n",
      "  1%|▏         | 75/6000 [00:00<00:07, 746.78it/s]"
     ]
    },
    {
     "name": "stdout",
     "output_type": "stream",
     "text": [
      "Epoch: 20\n"
     ]
    },
    {
     "name": "stderr",
     "output_type": "stream",
     "text": [
      "100%|██████████| 6000/6000 [00:08<00:00, 723.88it/s]\n",
      "  1%|          | 74/6000 [00:00<00:08, 729.66it/s]"
     ]
    },
    {
     "name": "stdout",
     "output_type": "stream",
     "text": [
      "Epoch: 21\n"
     ]
    },
    {
     "name": "stderr",
     "output_type": "stream",
     "text": [
      "100%|██████████| 6000/6000 [00:08<00:00, 741.04it/s]\n",
      "  1%|          | 68/6000 [00:00<00:08, 677.40it/s]"
     ]
    },
    {
     "name": "stdout",
     "output_type": "stream",
     "text": [
      "Epoch: 22\n"
     ]
    },
    {
     "name": "stderr",
     "output_type": "stream",
     "text": [
      "100%|██████████| 6000/6000 [00:10<00:00, 570.23it/s]\n",
      "  1%|          | 31/6000 [00:00<00:19, 307.51it/s]"
     ]
    },
    {
     "name": "stdout",
     "output_type": "stream",
     "text": [
      "Epoch: 23\n"
     ]
    },
    {
     "name": "stderr",
     "output_type": "stream",
     "text": [
      "100%|██████████| 6000/6000 [00:08<00:00, 672.22it/s]\n",
      "  1%|          | 64/6000 [00:00<00:09, 634.77it/s]"
     ]
    },
    {
     "name": "stdout",
     "output_type": "stream",
     "text": [
      "Epoch: 24\n"
     ]
    },
    {
     "name": "stderr",
     "output_type": "stream",
     "text": [
      "100%|██████████| 6000/6000 [00:08<00:00, 714.51it/s]\n",
      "  1%|          | 71/6000 [00:00<00:08, 705.11it/s]"
     ]
    },
    {
     "name": "stdout",
     "output_type": "stream",
     "text": [
      "Epoch: 25\n"
     ]
    },
    {
     "name": "stderr",
     "output_type": "stream",
     "text": [
      "100%|██████████| 6000/6000 [00:07<00:00, 754.72it/s]\n",
      "  1%|▏         | 75/6000 [00:00<00:07, 748.07it/s]"
     ]
    },
    {
     "name": "stdout",
     "output_type": "stream",
     "text": [
      "Epoch: 26\n"
     ]
    },
    {
     "name": "stderr",
     "output_type": "stream",
     "text": [
      "100%|██████████| 6000/6000 [00:07<00:00, 768.48it/s]\n",
      "  1%|          | 72/6000 [00:00<00:08, 714.48it/s]"
     ]
    },
    {
     "name": "stdout",
     "output_type": "stream",
     "text": [
      "Epoch: 27\n"
     ]
    },
    {
     "name": "stderr",
     "output_type": "stream",
     "text": [
      "100%|██████████| 6000/6000 [00:07<00:00, 760.97it/s]\n",
      "  1%|▏         | 76/6000 [00:00<00:07, 757.08it/s]"
     ]
    },
    {
     "name": "stdout",
     "output_type": "stream",
     "text": [
      "Epoch: 28\n"
     ]
    },
    {
     "name": "stderr",
     "output_type": "stream",
     "text": [
      "100%|██████████| 6000/6000 [00:07<00:00, 764.74it/s]\n",
      "  1%|▏         | 75/6000 [00:00<00:08, 740.08it/s]"
     ]
    },
    {
     "name": "stdout",
     "output_type": "stream",
     "text": [
      "Epoch: 29\n"
     ]
    },
    {
     "name": "stderr",
     "output_type": "stream",
     "text": [
      "100%|██████████| 6000/6000 [00:07<00:00, 762.36it/s]\n",
      "  1%|▏         | 78/6000 [00:00<00:07, 775.66it/s]"
     ]
    },
    {
     "name": "stdout",
     "output_type": "stream",
     "text": [
      "Epoch: 30\n"
     ]
    },
    {
     "name": "stderr",
     "output_type": "stream",
     "text": [
      "100%|██████████| 6000/6000 [00:07<00:00, 769.87it/s]\n",
      "  1%|▏         | 76/6000 [00:00<00:07, 759.52it/s]"
     ]
    },
    {
     "name": "stdout",
     "output_type": "stream",
     "text": [
      "Epoch: 31\n"
     ]
    },
    {
     "name": "stderr",
     "output_type": "stream",
     "text": [
      "100%|██████████| 6000/6000 [00:07<00:00, 765.98it/s]\n",
      "  1%|▏         | 77/6000 [00:00<00:07, 766.47it/s]"
     ]
    },
    {
     "name": "stdout",
     "output_type": "stream",
     "text": [
      "Epoch: 32\n"
     ]
    },
    {
     "name": "stderr",
     "output_type": "stream",
     "text": [
      "100%|██████████| 6000/6000 [00:07<00:00, 773.59it/s]\n",
      "  1%|          | 73/6000 [00:00<00:08, 728.04it/s]"
     ]
    },
    {
     "name": "stdout",
     "output_type": "stream",
     "text": [
      "Epoch: 33\n"
     ]
    },
    {
     "name": "stderr",
     "output_type": "stream",
     "text": [
      "100%|██████████| 6000/6000 [00:07<00:00, 761.60it/s]\n",
      "  1%|▏         | 78/6000 [00:00<00:07, 778.12it/s]"
     ]
    },
    {
     "name": "stdout",
     "output_type": "stream",
     "text": [
      "Epoch: 34\n"
     ]
    },
    {
     "name": "stderr",
     "output_type": "stream",
     "text": [
      "100%|██████████| 6000/6000 [00:07<00:00, 767.31it/s]\n",
      "  1%|▏         | 77/6000 [00:00<00:07, 767.81it/s]"
     ]
    },
    {
     "name": "stdout",
     "output_type": "stream",
     "text": [
      "Epoch: 35\n"
     ]
    },
    {
     "name": "stderr",
     "output_type": "stream",
     "text": [
      "100%|██████████| 6000/6000 [00:07<00:00, 770.64it/s]\n",
      "  1%|          | 73/6000 [00:00<00:08, 724.68it/s]"
     ]
    },
    {
     "name": "stdout",
     "output_type": "stream",
     "text": [
      "Epoch: 36\n"
     ]
    },
    {
     "name": "stderr",
     "output_type": "stream",
     "text": [
      "100%|██████████| 6000/6000 [00:07<00:00, 770.91it/s]\n",
      "  1%|▏         | 80/6000 [00:00<00:07, 794.45it/s]"
     ]
    },
    {
     "name": "stdout",
     "output_type": "stream",
     "text": [
      "Epoch: 37\n"
     ]
    },
    {
     "name": "stderr",
     "output_type": "stream",
     "text": [
      "100%|██████████| 6000/6000 [00:08<00:00, 711.82it/s]\n",
      "  1%|          | 70/6000 [00:00<00:08, 691.44it/s]"
     ]
    },
    {
     "name": "stdout",
     "output_type": "stream",
     "text": [
      "Epoch: 38\n"
     ]
    },
    {
     "name": "stderr",
     "output_type": "stream",
     "text": [
      "100%|██████████| 6000/6000 [00:08<00:00, 721.13it/s]\n",
      "  1%|▏         | 77/6000 [00:00<00:07, 768.98it/s]"
     ]
    },
    {
     "name": "stdout",
     "output_type": "stream",
     "text": [
      "Epoch: 39\n"
     ]
    },
    {
     "name": "stderr",
     "output_type": "stream",
     "text": [
      "100%|██████████| 6000/6000 [00:07<00:00, 762.24it/s]\n",
      "  1%|▏         | 81/6000 [00:00<00:07, 809.42it/s]"
     ]
    },
    {
     "name": "stdout",
     "output_type": "stream",
     "text": [
      "Epoch: 40\n"
     ]
    },
    {
     "name": "stderr",
     "output_type": "stream",
     "text": [
      "100%|██████████| 6000/6000 [00:07<00:00, 757.62it/s]\n",
      "  1%|▏         | 81/6000 [00:00<00:07, 804.23it/s]"
     ]
    },
    {
     "name": "stdout",
     "output_type": "stream",
     "text": [
      "Epoch: 41\n"
     ]
    },
    {
     "name": "stderr",
     "output_type": "stream",
     "text": [
      "100%|██████████| 6000/6000 [00:07<00:00, 761.01it/s]\n",
      "  1%|          | 73/6000 [00:00<00:08, 724.58it/s]"
     ]
    },
    {
     "name": "stdout",
     "output_type": "stream",
     "text": [
      "Epoch: 42\n"
     ]
    },
    {
     "name": "stderr",
     "output_type": "stream",
     "text": [
      "100%|██████████| 6000/6000 [00:07<00:00, 760.43it/s]\n",
      "  1%|          | 73/6000 [00:00<00:08, 727.81it/s]"
     ]
    },
    {
     "name": "stdout",
     "output_type": "stream",
     "text": [
      "Epoch: 43\n"
     ]
    },
    {
     "name": "stderr",
     "output_type": "stream",
     "text": [
      "100%|██████████| 6000/6000 [00:07<00:00, 761.07it/s]\n",
      "  1%|▏         | 76/6000 [00:00<00:07, 754.62it/s]"
     ]
    },
    {
     "name": "stdout",
     "output_type": "stream",
     "text": [
      "Epoch: 44\n"
     ]
    },
    {
     "name": "stderr",
     "output_type": "stream",
     "text": [
      "100%|██████████| 6000/6000 [00:07<00:00, 758.43it/s]\n",
      "  1%|          | 72/6000 [00:00<00:08, 717.31it/s]"
     ]
    },
    {
     "name": "stdout",
     "output_type": "stream",
     "text": [
      "Epoch: 45\n"
     ]
    },
    {
     "name": "stderr",
     "output_type": "stream",
     "text": [
      "100%|██████████| 6000/6000 [00:07<00:00, 766.07it/s]\n",
      "  1%|▏         | 76/6000 [00:00<00:07, 751.31it/s]"
     ]
    },
    {
     "name": "stdout",
     "output_type": "stream",
     "text": [
      "Epoch: 46\n"
     ]
    },
    {
     "name": "stderr",
     "output_type": "stream",
     "text": [
      "100%|██████████| 6000/6000 [00:07<00:00, 754.24it/s]\n",
      "  1%|          | 68/6000 [00:00<00:08, 677.27it/s]"
     ]
    },
    {
     "name": "stdout",
     "output_type": "stream",
     "text": [
      "Epoch: 47\n"
     ]
    },
    {
     "name": "stderr",
     "output_type": "stream",
     "text": [
      "100%|██████████| 6000/6000 [00:07<00:00, 761.93it/s]\n",
      "  1%|▏         | 75/6000 [00:00<00:07, 744.06it/s]"
     ]
    },
    {
     "name": "stdout",
     "output_type": "stream",
     "text": [
      "Epoch: 48\n"
     ]
    },
    {
     "name": "stderr",
     "output_type": "stream",
     "text": [
      "100%|██████████| 6000/6000 [00:07<00:00, 765.67it/s]\n",
      "  1%|▏         | 77/6000 [00:00<00:07, 762.56it/s]"
     ]
    },
    {
     "name": "stdout",
     "output_type": "stream",
     "text": [
      "Epoch: 49\n"
     ]
    },
    {
     "name": "stderr",
     "output_type": "stream",
     "text": [
      "100%|██████████| 6000/6000 [00:07<00:00, 763.84it/s]\n",
      "  1%|▏         | 76/6000 [00:00<00:07, 758.67it/s]"
     ]
    },
    {
     "name": "stdout",
     "output_type": "stream",
     "text": [
      "Epoch: 50\n"
     ]
    },
    {
     "name": "stderr",
     "output_type": "stream",
     "text": [
      "100%|██████████| 6000/6000 [00:07<00:00, 766.40it/s]\n"
     ]
    },
    {
     "name": "stdout",
     "output_type": "stream",
     "text": [
      "0.9613\n"
     ]
    }
   ],
   "source": [
    "%%add_to Network\n",
    "def train(self, training_data, validation_data, num_epochs, mini_batch_size, learning_rate):\n",
    "    for j in range(num_epochs):\n",
    "        \n",
    "        print(f\"Epoch: {j + 1}\")\n",
    "        \n",
    "        random.shuffle(training_data) # no return value\n",
    "        \n",
    "        for batch_idx in tqdm(range(0, len(training_data), mini_batch_size)):\n",
    "            data = training_data[batch_idx:batch_idx+mini_batch_size]\n",
    "            self.update_mini_batch(data, learning_rate)\n",
    "        \n",
    "        learning_rate *= 0.9\n",
    "\n",
    "# --------------------------------------------------------\n",
    "\n",
    "net.train(training_data, validation_data, num_epochs, mini_batch_size, learning_rate)\n",
    "\n",
    "print(net.evaluate(validation_data) / len(validation_data))\n"
   ]
  },
  {
   "cell_type": "code",
   "execution_count": null,
   "metadata": {},
   "outputs": [],
   "source": []
  }
 ],
 "metadata": {
  "kernelspec": {
   "display_name": "Python 3",
   "language": "python",
   "name": "python3"
  },
  "language_info": {
   "codemirror_mode": {
    "name": "ipython",
    "version": 3
   },
   "file_extension": ".py",
   "mimetype": "text/x-python",
   "name": "python",
   "nbconvert_exporter": "python",
   "pygments_lexer": "ipython3",
   "version": "3.7.7"
  }
 },
 "nbformat": 4,
 "nbformat_minor": 4
}
